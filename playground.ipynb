{
 "cells": [
  {
   "cell_type": "markdown",
   "id": "1512013b",
   "metadata": {},
   "source": [
    "# Oxidamp Playground"
   ]
  },
  {
   "cell_type": "markdown",
   "id": "26d2cec5",
   "metadata": {},
   "source": [
    "Before we can do anything else, we must compile the oxidamp crate. Note that we have set the path to `\".\"` and this requires that `jupyter-notebook` is started from the oxidamp directory."
   ]
  },
  {
   "cell_type": "code",
   "execution_count": null,
   "id": "27d0a332",
   "metadata": {},
   "outputs": [],
   "source": [
    ":dep oxidamp = { path=\".\" }\n",
    "use oxidamp::*;"
   ]
  },
  {
   "cell_type": "markdown",
   "id": "4079487b",
   "metadata": {},
   "source": [
    "Create a new audio context to configure things against:"
   ]
  },
  {
   "cell_type": "code",
   "execution_count": null,
   "id": "5841c112",
   "metadata": {},
   "outputs": [],
   "source": [
    "let ctx = AudioContext::new(48000);"
   ]
  },
  {
   "cell_type": "markdown",
   "id": "7e86c844",
   "metadata": {},
   "source": [
    "## Setup\n",
    "\n",
    "To execute and explore this notepad requires [evcxr_jupyter](https://github.com/google/evcxr/tree/main/evcxr_jupyter). To install this on a new machine try:\n",
    "\n",
    "    rustup component add rust-src\n",
    "    sudo apt install jupyter-notebook cmake build-essential\n",
    "    cargo install evcxr_jupyter\n",
    "    evcxr_jupyter --install\n",
    "    jupyter-notebook\n",
    "    \n",
    "For more details checkout the [excxr documentation](https://github.com/google/evcxr/tree/main/evcxr_jupyter)."
   ]
  },
  {
   "cell_type": "markdown",
   "id": "438f033a",
   "metadata": {},
   "source": [
    "## Making audio playable within the jupyter notebook\n",
    "\n",
    "This works really well to allow interactive experiments with the oxidamp DSP code. However it will also significantly bloat the git repo for every audio sample we include because the audio it generates is uncompressed and ends up burned into the notebook file.\n",
    "\n",
    "Use with both taste and care!"
   ]
  },
  {
   "cell_type": "code",
   "execution_count": null,
   "id": "971d363f",
   "metadata": {},
   "outputs": [],
   "source": [
    ":dep base64\n",
    ":dep hound\n",
    "\n",
    "pub struct AudioClip {\n",
    "    content: String\n",
    "}\n",
    "\n",
    "impl AudioClip {\n",
    "    pub fn evcxr_display(&self) {\n",
    "        println!(\"EVCXR_BEGIN_CONTENT text/html\\n<audio controls src=\\\"data:audio/wav;base64,{}\\\"/>\\nEVCXR_END_CONTENT\", self.content);\n",
    "    }\n",
    "\n",
    "    fn new_spec(sample_rate: u32, channels: u16) -> (hound::WavSpec, f32) {\n",
    "        (\n",
    "            hound::WavSpec {\n",
    "                channels,\n",
    "                sample_rate,\n",
    "                bits_per_sample: 16,\n",
    "                sample_format: hound::SampleFormat::Int,\n",
    "            },\n",
    "            32767.0\n",
    "        )\n",
    "    }\n",
    "    \n",
    "    fn from_mono(buf: &[f32], sample_rate: u32) -> Self {\n",
    "        let (spec, amplitude) = Self::new_spec(sample_rate, 1);\n",
    "        \n",
    "        let mut wav = Vec::<u8>::new();\n",
    "        \n",
    "        let mut writer = hound::WavWriter::new(std::io::Cursor::new(&mut wav), spec).unwrap();\n",
    "        for spl in buf {\n",
    "            writer.write_sample((spl * amplitude) as i16).unwrap();\n",
    "        }\n",
    "        writer.finalize().unwrap();\n",
    "        \n",
    "        Self::from_wav(&wav)\n",
    "    }\n",
    "    \n",
    "    fn from_stereo(lbuf: &[f32], rbuf: &[f32], sample_rate: u32) -> Self {\n",
    "        let (spec, amplitude) = Self::new_spec(sample_rate, 2);\n",
    "        \n",
    "        let mut wav = Vec::<u8>::new();\n",
    "        \n",
    "        let mut writer = hound::WavWriter::new(std::io::Cursor::new(&mut wav), spec).unwrap();\n",
    "        for (l, r) in std::iter::zip(lbuf, rbuf) {\n",
    "            writer.write_sample((*l * amplitude) as i16).unwrap();\n",
    "            writer.write_sample((*r * amplitude) as i16).unwrap();\n",
    "        }\n",
    "        writer.finalize().unwrap();\n",
    "        \n",
    "        Self::from_wav(&wav)\n",
    "    }\n",
    "    \n",
    "    fn from_wav(wav: &[u8]) -> Self {\n",
    "        Self {\n",
    "            content: base64::encode(wav),\n",
    "        }\n",
    "    }\n",
    "}"
   ]
  },
  {
   "cell_type": "code",
   "execution_count": null,
   "id": "d8c8c9bd",
   "metadata": {},
   "outputs": [],
   "source": [
    "fn randbuf<const L: usize>() -> [f32; L] {\n",
    "    let mut seed = 1;\n",
    "    let mut inbuf = [0.0_f32; L];\n",
    "    for i in &mut inbuf {\n",
    "        *i = frand31(&mut seed);\n",
    "    }\n",
    "    inbuf\n",
    "}\n",
    "let noise = randbuf::<88200>();\n",
    "\n",
    "AudioClip::from_mono(&noise, 44100)"
   ]
  },
  {
   "cell_type": "markdown",
   "id": "fade5115",
   "metadata": {},
   "source": [
    "# Examples"
   ]
  },
  {
   "cell_type": "markdown",
   "id": "85e9a5d7",
   "metadata": {},
   "source": [
    "## Cabinet Simulation"
   ]
  },
  {
   "cell_type": "markdown",
   "id": "d2e3b0fc",
   "metadata": {},
   "source": [
    "Oxidamp includes a speaker cabinet simulator. Currently it is modelled (not very accurately) on the frequency reponse of a classic speaker. Implemented as a combination of biquad filters."
   ]
  },
  {
   "cell_type": "code",
   "execution_count": null,
   "id": "f197115d",
   "metadata": {},
   "outputs": [],
   "source": [
    "let mut cabsim = CabinetSimulator::default();\n",
    "cabsim.setup(&ctx);"
   ]
  },
  {
   "cell_type": "markdown",
   "id": "9ee9884b",
   "metadata": {},
   "source": [
    "We can use the filter `stimulate()` method to get the frequency response for an 400Hz sine wave:"
   ]
  },
  {
   "cell_type": "code",
   "execution_count": null,
   "id": "7f44edb4",
   "metadata": {},
   "outputs": [],
   "source": [
    "linear2db(cabsim.stimulate(&ctx, 400))"
   ]
  },
  {
   "cell_type": "markdown",
   "id": "aaf40dfb",
   "metadata": {},
   "source": [
    "## Karplus-Strong synthesis"
   ]
  },
  {
   "cell_type": "code",
   "execution_count": null,
   "id": "b515b43a",
   "metadata": {},
   "outputs": [],
   "source": [
    "let mut synth = KarplusStrong::default();\n",
    "synth.setup(&ctx);\n",
    "synth.trigger();"
   ]
  },
  {
   "cell_type": "code",
   "execution_count": null,
   "id": "bd9d9638",
   "metadata": {},
   "outputs": [],
   "source": [
    "let mut snd = [0.0_f32; 2*48000];\n",
    "synth.process(&mut snd);\n",
    "\n",
    "AudioClip::from_mono(&snd, 48000)"
   ]
  },
  {
   "cell_type": "markdown",
   "id": "460bd1d4",
   "metadata": {},
   "source": [
    "## Signal Generation"
   ]
  },
  {
   "cell_type": "code",
   "execution_count": null,
   "id": "3ead115a",
   "metadata": {},
   "outputs": [],
   "source": [
    "let mut sg = SineGenerator::default();\n",
    "sg.setup(&ctx, 440, 0.7);\n",
    "let mut sine = [0.0_f32; 96000];\n",
    "sg.process(&mut sine);"
   ]
  },
  {
   "cell_type": "markdown",
   "id": "c2aa32f1",
   "metadata": {},
   "source": [
    "## Drum Machine"
   ]
  },
  {
   "cell_type": "code",
   "execution_count": null,
   "id": "fc392afc",
   "metadata": {},
   "outputs": [],
   "source": [
    "let mut dm = DrumMachine::default();\n",
    "dm.setup(&ctx);\n",
    "dm.set_control(&Control::BeatsPerMinute(112));\n",
    "dm.set_control(&Control::Pattern(3));\n",
    "let mut beats = [0.0_f32; 10*48000];\n",
    "dm.process(&mut beats);\n",
    "\n",
    "AudioClip::from_mono(&beats, 48000)"
   ]
  },
  {
   "cell_type": "markdown",
   "id": "f767e699",
   "metadata": {},
   "source": [
    "Adding reverb."
   ]
  },
  {
   "cell_type": "code",
   "execution_count": null,
   "id": "43e88127",
   "metadata": {},
   "outputs": [],
   "source": [
    "let mut jcrev = Reverb::default();\n",
    "//jcrev.setup(&ctx);\n",
    "let mut rbeats = [0.0_f32; 10*48000];\n",
    "jcrev.process(&beats, &mut rbeats);\n",
    "\n",
    "AudioClip::from_mono(&rbeats, 48000)"
   ]
  }
 ],
 "metadata": {
  "kernelspec": {
   "display_name": "Rust",
   "language": "rust",
   "name": "rust"
  },
  "language_info": {
   "codemirror_mode": "rust",
   "file_extension": ".rs",
   "mimetype": "text/rust",
   "name": "Rust",
   "pygment_lexer": "rust",
   "version": ""
  }
 },
 "nbformat": 4,
 "nbformat_minor": 5
}
