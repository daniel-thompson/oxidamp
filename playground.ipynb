{
 "cells": [
  {
   "cell_type": "markdown",
   "id": "1512013b",
   "metadata": {},
   "source": [
    "# Oxidamp Examples"
   ]
  },
  {
   "cell_type": "markdown",
   "id": "26d2cec5",
   "metadata": {},
   "source": [
    "Before we can do anything else, we must compile the oxidamp crate. Note that we have set the path to `\".\"` and this requires that `jupyter-notebook` is started from the oxidamp directory."
   ]
  },
  {
   "cell_type": "code",
   "execution_count": 2,
   "id": "27d0a332",
   "metadata": {},
   "outputs": [],
   "source": [
    ":dep oxidamp = { path=\".\" }\n",
    "use oxidamp::*;"
   ]
  },
  {
   "cell_type": "markdown",
   "id": "4079487b",
   "metadata": {},
   "source": [
    "Create a new audio context to configure things against:"
   ]
  },
  {
   "cell_type": "code",
   "execution_count": 3,
   "id": "5841c112",
   "metadata": {},
   "outputs": [],
   "source": [
    "let ctx = AudioContext::new(48000);"
   ]
  },
  {
   "cell_type": "markdown",
   "id": "7e86c844",
   "metadata": {},
   "source": [
    "## Setup\n",
    "\n",
    "To execute and explore this notepad requires [evcxr_jupyter](https://github.com/google/evcxr/tree/main/evcxr_jupyter). To install this on a new machine try:\n",
    "\n",
    "    rustup component add rust-src\n",
    "    sudo apt install jupyter-notebook cmake build-essential\n",
    "    cargo install evcxr_jupyter\n",
    "    evcxr_jupyter --install\n",
    "    jupyter-notebook\n",
    "    \n",
    "For more details checkout the [excxr documentation](https://github.com/google/evcxr/tree/main/evcxr_jupyter)."
   ]
  },
  {
   "cell_type": "markdown",
   "id": "85e9a5d7",
   "metadata": {},
   "source": [
    "## Cabinet Simulation"
   ]
  },
  {
   "cell_type": "markdown",
   "id": "d2e3b0fc",
   "metadata": {},
   "source": [
    "Oxidamp includes a speaker cabinet simulator. Currently it is modelled (not very accurately) on the frequency reponse of a classic speaker. Implemented as a combination of biquad filters."
   ]
  },
  {
   "cell_type": "code",
   "execution_count": 4,
   "id": "f197115d",
   "metadata": {},
   "outputs": [],
   "source": [
    "let mut cabsim = CabinetSimulator::default();\n",
    "cabsim.setup(&ctx);"
   ]
  },
  {
   "cell_type": "markdown",
   "id": "9ee9884b",
   "metadata": {},
   "source": [
    "We can use the filter `stimulate()` method to get the frequency response for an 400Hz sine wave:"
   ]
  },
  {
   "cell_type": "code",
   "execution_count": 5,
   "id": "7f44edb4",
   "metadata": {},
   "outputs": [
    {
     "data": {
      "text/plain": [
       "-13.406076"
      ]
     },
     "execution_count": 5,
     "metadata": {},
     "output_type": "execute_result"
    }
   ],
   "source": [
    "linear2db(cabsim.stimulate(&ctx, 400))"
   ]
  },
  {
   "cell_type": "code",
   "execution_count": null,
   "id": "b158ecac",
   "metadata": {},
   "outputs": [],
   "source": []
  }
 ],
 "metadata": {
  "kernelspec": {
   "display_name": "Rust",
   "language": "rust",
   "name": "rust"
  },
  "language_info": {
   "codemirror_mode": "rust",
   "file_extension": ".rs",
   "mimetype": "text/rust",
   "name": "Rust",
   "pygment_lexer": "rust",
   "version": ""
  }
 },
 "nbformat": 4,
 "nbformat_minor": 5
}
